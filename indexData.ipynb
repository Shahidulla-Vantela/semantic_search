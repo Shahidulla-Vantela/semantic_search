{
 "cells": [
  {
   "cell_type": "code",
   "execution_count": 1,
   "metadata": {},
   "outputs": [],
   "source": [
    "from elasticsearch import Elasticsearch"
   ]
  },
  {
   "cell_type": "code",
   "execution_count": 4,
   "metadata": {},
   "outputs": [
    {
     "data": {
      "text/plain": [
       "True"
      ]
     },
     "execution_count": 4,
     "metadata": {},
     "output_type": "execute_result"
    }
   ],
   "source": [
    "es = Elasticsearch(\n",
    "    \"https://localhost:9200\",\n",
    "    basic_auth=(\"your_user_name\",\"your_api_key\"),\n",
    "    ca_certs=\"/your_certificate\"\n",
    ")\n",
    "es.ping()"
   ]
  },
  {
   "cell_type": "markdown",
   "metadata": {},
   "source": [
    "## Prepare the data"
   ]
  },
  {
   "cell_type": "code",
   "execution_count": 5,
   "metadata": {},
   "outputs": [
    {
     "data": {
      "text/html": [
       "<div>\n",
       "<style scoped>\n",
       "    .dataframe tbody tr th:only-of-type {\n",
       "        vertical-align: middle;\n",
       "    }\n",
       "\n",
       "    .dataframe tbody tr th {\n",
       "        vertical-align: top;\n",
       "    }\n",
       "\n",
       "    .dataframe thead th {\n",
       "        text-align: right;\n",
       "    }\n",
       "</style>\n",
       "<table border=\"1\" class=\"dataframe\">\n",
       "  <thead>\n",
       "    <tr style=\"text-align: right;\">\n",
       "      <th></th>\n",
       "      <th>ProductID</th>\n",
       "      <th>ProductName</th>\n",
       "      <th>ProductBrand</th>\n",
       "      <th>Gender</th>\n",
       "      <th>Price (INR)</th>\n",
       "      <th>NumImages</th>\n",
       "      <th>Description</th>\n",
       "      <th>PrimaryColor</th>\n",
       "    </tr>\n",
       "  </thead>\n",
       "  <tbody>\n",
       "    <tr>\n",
       "      <th>0</th>\n",
       "      <td>10017413</td>\n",
       "      <td>DKNY Unisex Black &amp; Grey Printed Medium Trolle...</td>\n",
       "      <td>DKNY</td>\n",
       "      <td>Unisex</td>\n",
       "      <td>11745</td>\n",
       "      <td>7</td>\n",
       "      <td>Black and grey printed medium trolley bag, sec...</td>\n",
       "      <td>Black</td>\n",
       "    </tr>\n",
       "    <tr>\n",
       "      <th>1</th>\n",
       "      <td>10016283</td>\n",
       "      <td>EthnoVogue Women Beige &amp; Grey Made to Measure ...</td>\n",
       "      <td>EthnoVogue</td>\n",
       "      <td>Women</td>\n",
       "      <td>5810</td>\n",
       "      <td>7</td>\n",
       "      <td>Beige &amp; Grey made to measure kurta with churid...</td>\n",
       "      <td>Beige</td>\n",
       "    </tr>\n",
       "    <tr>\n",
       "      <th>2</th>\n",
       "      <td>10009781</td>\n",
       "      <td>SPYKAR Women Pink Alexa Super Skinny Fit High-...</td>\n",
       "      <td>SPYKAR</td>\n",
       "      <td>Women</td>\n",
       "      <td>899</td>\n",
       "      <td>7</td>\n",
       "      <td>Pink coloured wash 5-pocket high-rise cropped ...</td>\n",
       "      <td>Pink</td>\n",
       "    </tr>\n",
       "    <tr>\n",
       "      <th>3</th>\n",
       "      <td>10015921</td>\n",
       "      <td>Raymond Men Blue Self-Design Single-Breasted B...</td>\n",
       "      <td>Raymond</td>\n",
       "      <td>Men</td>\n",
       "      <td>5599</td>\n",
       "      <td>5</td>\n",
       "      <td>Blue self-design bandhgala suitBlue self-desig...</td>\n",
       "      <td>Blue</td>\n",
       "    </tr>\n",
       "    <tr>\n",
       "      <th>4</th>\n",
       "      <td>10017833</td>\n",
       "      <td>Parx Men Brown &amp; Off-White Slim Fit Printed Ca...</td>\n",
       "      <td>Parx</td>\n",
       "      <td>Men</td>\n",
       "      <td>759</td>\n",
       "      <td>5</td>\n",
       "      <td>Brown and off-white printed casual shirt, has ...</td>\n",
       "      <td>White</td>\n",
       "    </tr>\n",
       "  </tbody>\n",
       "</table>\n",
       "</div>"
      ],
      "text/plain": [
       "   ProductID                                        ProductName ProductBrand  \\\n",
       "0   10017413  DKNY Unisex Black & Grey Printed Medium Trolle...         DKNY   \n",
       "1   10016283  EthnoVogue Women Beige & Grey Made to Measure ...   EthnoVogue   \n",
       "2   10009781  SPYKAR Women Pink Alexa Super Skinny Fit High-...       SPYKAR   \n",
       "3   10015921  Raymond Men Blue Self-Design Single-Breasted B...      Raymond   \n",
       "4   10017833  Parx Men Brown & Off-White Slim Fit Printed Ca...         Parx   \n",
       "\n",
       "   Gender  Price (INR)  NumImages  \\\n",
       "0  Unisex        11745          7   \n",
       "1   Women         5810          7   \n",
       "2   Women          899          7   \n",
       "3     Men         5599          5   \n",
       "4     Men          759          5   \n",
       "\n",
       "                                         Description PrimaryColor  \n",
       "0  Black and grey printed medium trolley bag, sec...        Black  \n",
       "1  Beige & Grey made to measure kurta with churid...        Beige  \n",
       "2  Pink coloured wash 5-pocket high-rise cropped ...         Pink  \n",
       "3  Blue self-design bandhgala suitBlue self-desig...         Blue  \n",
       "4  Brown and off-white printed casual shirt, has ...        White  "
      ]
     },
     "execution_count": 5,
     "metadata": {},
     "output_type": "execute_result"
    }
   ],
   "source": [
    "import pandas as pd\n",
    "\n",
    "df = pd.read_csv(\"myntra_products_catalog.csv\").loc[:499]\n",
    "df.head()"
   ]
  },
  {
   "cell_type": "code",
   "execution_count": 8,
   "metadata": {},
   "outputs": [
    {
     "data": {
      "text/plain": [
       "ProductID  ProductName  ProductBrand  Gender  Price (INR)  NumImages  Description  PrimaryColor\n",
       "False      False        False         False   False        False      False        False           500\n",
       "Name: count, dtype: int64"
      ]
     },
     "execution_count": 8,
     "metadata": {},
     "output_type": "execute_result"
    }
   ],
   "source": [
    "df.isna().value_counts()"
   ]
  },
  {
   "cell_type": "code",
   "execution_count": 7,
   "metadata": {},
   "outputs": [],
   "source": [
    "df.fillna(\"None\", inplace=True)"
   ]
  },
  {
   "cell_type": "markdown",
   "metadata": {},
   "source": [
    "## Convert the relevant field to Vector using BERT model"
   ]
  },
  {
   "cell_type": "code",
   "execution_count": 10,
   "metadata": {},
   "outputs": [
    {
     "name": "stderr",
     "output_type": "stream",
     "text": [
      "/opt/anaconda3/lib/python3.12/site-packages/sentence_transformers/cross_encoder/CrossEncoder.py:13: TqdmExperimentalWarning: Using `tqdm.autonotebook.tqdm` in notebook mode. Use `tqdm.tqdm` instead to force console mode (e.g. in jupyter console)\n",
      "  from tqdm.autonotebook import tqdm, trange\n"
     ]
    }
   ],
   "source": [
    "from sentence_transformers import SentenceTransformer\n",
    "model = SentenceTransformer('all-mpnet-base-v2')"
   ]
  },
  {
   "cell_type": "code",
   "execution_count": 11,
   "metadata": {},
   "outputs": [],
   "source": [
    "df[\"DescriptionVector\"] = df[\"Description\"].apply(lambda x: model.encode(x))"
   ]
  },
  {
   "cell_type": "code",
   "execution_count": 12,
   "metadata": {},
   "outputs": [
    {
     "data": {
      "text/html": [
       "<div>\n",
       "<style scoped>\n",
       "    .dataframe tbody tr th:only-of-type {\n",
       "        vertical-align: middle;\n",
       "    }\n",
       "\n",
       "    .dataframe tbody tr th {\n",
       "        vertical-align: top;\n",
       "    }\n",
       "\n",
       "    .dataframe thead th {\n",
       "        text-align: right;\n",
       "    }\n",
       "</style>\n",
       "<table border=\"1\" class=\"dataframe\">\n",
       "  <thead>\n",
       "    <tr style=\"text-align: right;\">\n",
       "      <th></th>\n",
       "      <th>ProductID</th>\n",
       "      <th>ProductName</th>\n",
       "      <th>ProductBrand</th>\n",
       "      <th>Gender</th>\n",
       "      <th>Price (INR)</th>\n",
       "      <th>NumImages</th>\n",
       "      <th>Description</th>\n",
       "      <th>PrimaryColor</th>\n",
       "      <th>DescriptionVector</th>\n",
       "    </tr>\n",
       "  </thead>\n",
       "  <tbody>\n",
       "    <tr>\n",
       "      <th>0</th>\n",
       "      <td>10017413</td>\n",
       "      <td>DKNY Unisex Black &amp; Grey Printed Medium Trolle...</td>\n",
       "      <td>DKNY</td>\n",
       "      <td>Unisex</td>\n",
       "      <td>11745</td>\n",
       "      <td>7</td>\n",
       "      <td>Black and grey printed medium trolley bag, sec...</td>\n",
       "      <td>Black</td>\n",
       "      <td>[0.027645733, -0.002634167, -0.0035884373, 0.0...</td>\n",
       "    </tr>\n",
       "    <tr>\n",
       "      <th>1</th>\n",
       "      <td>10016283</td>\n",
       "      <td>EthnoVogue Women Beige &amp; Grey Made to Measure ...</td>\n",
       "      <td>EthnoVogue</td>\n",
       "      <td>Women</td>\n",
       "      <td>5810</td>\n",
       "      <td>7</td>\n",
       "      <td>Beige &amp; Grey made to measure kurta with churid...</td>\n",
       "      <td>Beige</td>\n",
       "      <td>[-0.024660701, -0.028755445, -0.020332457, 0.0...</td>\n",
       "    </tr>\n",
       "    <tr>\n",
       "      <th>2</th>\n",
       "      <td>10009781</td>\n",
       "      <td>SPYKAR Women Pink Alexa Super Skinny Fit High-...</td>\n",
       "      <td>SPYKAR</td>\n",
       "      <td>Women</td>\n",
       "      <td>899</td>\n",
       "      <td>7</td>\n",
       "      <td>Pink coloured wash 5-pocket high-rise cropped ...</td>\n",
       "      <td>Pink</td>\n",
       "      <td>[-0.04694327, 0.08182792, 0.0483352, -0.000158...</td>\n",
       "    </tr>\n",
       "    <tr>\n",
       "      <th>3</th>\n",
       "      <td>10015921</td>\n",
       "      <td>Raymond Men Blue Self-Design Single-Breasted B...</td>\n",
       "      <td>Raymond</td>\n",
       "      <td>Men</td>\n",
       "      <td>5599</td>\n",
       "      <td>5</td>\n",
       "      <td>Blue self-design bandhgala suitBlue self-desig...</td>\n",
       "      <td>Blue</td>\n",
       "      <td>[-0.01509876, -0.010285516, 0.009487349, -0.02...</td>\n",
       "    </tr>\n",
       "    <tr>\n",
       "      <th>4</th>\n",
       "      <td>10017833</td>\n",
       "      <td>Parx Men Brown &amp; Off-White Slim Fit Printed Ca...</td>\n",
       "      <td>Parx</td>\n",
       "      <td>Men</td>\n",
       "      <td>759</td>\n",
       "      <td>5</td>\n",
       "      <td>Brown and off-white printed casual shirt, has ...</td>\n",
       "      <td>White</td>\n",
       "      <td>[-0.017746469, 0.006209531, 0.021813966, 0.026...</td>\n",
       "    </tr>\n",
       "  </tbody>\n",
       "</table>\n",
       "</div>"
      ],
      "text/plain": [
       "   ProductID                                        ProductName ProductBrand  \\\n",
       "0   10017413  DKNY Unisex Black & Grey Printed Medium Trolle...         DKNY   \n",
       "1   10016283  EthnoVogue Women Beige & Grey Made to Measure ...   EthnoVogue   \n",
       "2   10009781  SPYKAR Women Pink Alexa Super Skinny Fit High-...       SPYKAR   \n",
       "3   10015921  Raymond Men Blue Self-Design Single-Breasted B...      Raymond   \n",
       "4   10017833  Parx Men Brown & Off-White Slim Fit Printed Ca...         Parx   \n",
       "\n",
       "   Gender  Price (INR)  NumImages  \\\n",
       "0  Unisex        11745          7   \n",
       "1   Women         5810          7   \n",
       "2   Women          899          7   \n",
       "3     Men         5599          5   \n",
       "4     Men          759          5   \n",
       "\n",
       "                                         Description PrimaryColor  \\\n",
       "0  Black and grey printed medium trolley bag, sec...        Black   \n",
       "1  Beige & Grey made to measure kurta with churid...        Beige   \n",
       "2  Pink coloured wash 5-pocket high-rise cropped ...         Pink   \n",
       "3  Blue self-design bandhgala suitBlue self-desig...         Blue   \n",
       "4  Brown and off-white printed casual shirt, has ...        White   \n",
       "\n",
       "                                   DescriptionVector  \n",
       "0  [0.027645733, -0.002634167, -0.0035884373, 0.0...  \n",
       "1  [-0.024660701, -0.028755445, -0.020332457, 0.0...  \n",
       "2  [-0.04694327, 0.08182792, 0.0483352, -0.000158...  \n",
       "3  [-0.01509876, -0.010285516, 0.009487349, -0.02...  \n",
       "4  [-0.017746469, 0.006209531, 0.021813966, 0.026...  "
      ]
     },
     "execution_count": 12,
     "metadata": {},
     "output_type": "execute_result"
    }
   ],
   "source": [
    "df.head()"
   ]
  },
  {
   "cell_type": "code",
   "execution_count": 19,
   "metadata": {},
   "outputs": [
    {
     "data": {
      "text/plain": [
       "True"
      ]
     },
     "execution_count": 19,
     "metadata": {},
     "output_type": "execute_result"
    }
   ],
   "source": [
    "es.ping()"
   ]
  },
  {
   "cell_type": "markdown",
   "metadata": {},
   "source": [
    "## Create new index in ElasticSearch!"
   ]
  },
  {
   "cell_type": "code",
   "execution_count": 14,
   "metadata": {},
   "outputs": [
    {
     "data": {
      "text/plain": [
       "ObjectApiResponse({'acknowledged': True, 'shards_acknowledged': True, 'index': 'all_products'})"
      ]
     },
     "execution_count": 14,
     "metadata": {},
     "output_type": "execute_result"
    }
   ],
   "source": [
    "from indexMapping import indexMapping\n",
    "\n",
    "es.indices.create(index=\"all_products\", mappings=indexMapping)"
   ]
  },
  {
   "cell_type": "markdown",
   "metadata": {},
   "source": [
    "## Ingest the data into index"
   ]
  },
  {
   "cell_type": "code",
   "execution_count": 15,
   "metadata": {},
   "outputs": [],
   "source": [
    "record_list = df.to_dict(\"records\")"
   ]
  },
  {
   "cell_type": "code",
   "execution_count": 16,
   "metadata": {},
   "outputs": [],
   "source": [
    "for record in record_list:\n",
    "    try:\n",
    "        es.index(index=\"all_products\", document=record, id=record[\"ProductID\"])\n",
    "    except Exception as e:\n",
    "        print(e)"
   ]
  },
  {
   "cell_type": "code",
   "execution_count": 17,
   "metadata": {},
   "outputs": [
    {
     "data": {
      "text/plain": [
       "ObjectApiResponse({'count': 468, '_shards': {'total': 1, 'successful': 1, 'skipped': 0, 'failed': 0}})"
      ]
     },
     "execution_count": 17,
     "metadata": {},
     "output_type": "execute_result"
    }
   ],
   "source": [
    "es.count(index=\"all_products\")"
   ]
  },
  {
   "cell_type": "markdown",
   "metadata": {},
   "source": [
    "## Search the data"
   ]
  },
  {
   "cell_type": "code",
   "execution_count": 18,
   "metadata": {},
   "outputs": [
    {
     "name": "stderr",
     "output_type": "stream",
     "text": [
      "/var/folders/_7/7y1z51vj4qv0656t7s2h2bvm0000gn/T/ipykernel_38680/4231997638.py:11: ElasticsearchWarning: The kNN search API has been replaced by the `knn` option in the search API.\n",
      "  res = es.knn_search(index=\"all_products\", knn=query , source=[\"ProductName\",\"Description\"])\n"
     ]
    },
    {
     "data": {
      "text/plain": [
       "[{'_index': 'all_products',\n",
       "  '_id': '10018013',\n",
       "  '_score': 0.61663127,\n",
       "  '_source': {'ProductName': 'Puma Men Blue Sneakers',\n",
       "   'Description': 'A pair of round-toe blue sneakers, has regular styling, lace-up detailTextile upperCushioned footbedTextured and patterned outsoleWarranty: 3 monthsWarranty provided by brand/manufacturer'}},\n",
       " {'_index': 'all_products',\n",
       "  '_id': '10018075',\n",
       "  '_score': 0.6163566,\n",
       "  '_source': {'ProductName': 'Puma Men Blue Sneakers',\n",
       "   'Description': 'A pair of round-toe blue sneakers, has regular styling, lace-up detailTextile upperCushioned footbedTextured and patterned outsoleWarranty: 3 monthsWarranty provided by brand/manufacturer'}}]"
      ]
     },
     "execution_count": 18,
     "metadata": {},
     "output_type": "execute_result"
    }
   ],
   "source": [
    "input_keyword = \"Blue Shoes\"\n",
    "vector_of_input_keyword = model.encode(input_keyword)\n",
    "\n",
    "query = {\n",
    "    \"field\" : \"DescriptionVector\",\n",
    "    \"query_vector\" : vector_of_input_keyword,\n",
    "    \"k\" : 2,\n",
    "    \"num_candidates\" : 468, \n",
    "}\n",
    "\n",
    "res = es.knn_search(index=\"all_products\", knn=query , source=[\"ProductName\",\"Description\"])\n",
    "res[\"hits\"][\"hits\"]"
   ]
  },
  {
   "cell_type": "code",
   "execution_count": null,
   "metadata": {},
   "outputs": [],
   "source": []
  }
 ],
 "metadata": {
  "kernelspec": {
   "display_name": "Python 3 (ipykernel)",
   "language": "python",
   "name": "python3"
  },
  "language_info": {
   "codemirror_mode": {
    "name": "ipython",
    "version": 3
   },
   "file_extension": ".py",
   "mimetype": "text/x-python",
   "name": "python",
   "nbconvert_exporter": "python",
   "pygments_lexer": "ipython3",
   "version": "3.12.4"
  }
 },
 "nbformat": 4,
 "nbformat_minor": 4
}
